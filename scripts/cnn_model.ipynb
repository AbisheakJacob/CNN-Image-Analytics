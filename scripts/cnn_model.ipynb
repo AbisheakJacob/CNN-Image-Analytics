{
 "cells": [
  {
   "cell_type": "code",
   "execution_count": 2,
   "metadata": {},
   "outputs": [
    {
     "name": "stdout",
     "output_type": "stream",
     "text": [
      "WARNING:tensorflow:From c:\\Users\\Jacob\\AppData\\Local\\Programs\\Python\\Python311\\Lib\\site-packages\\keras\\src\\losses.py:2976: The name tf.losses.sparse_softmax_cross_entropy is deprecated. Please use tf.compat.v1.losses.sparse_softmax_cross_entropy instead.\n",
      "\n"
     ]
    }
   ],
   "source": [
    "# importing the packages\n",
    "import numpy as np\n",
    "from keras.models import Sequential\n",
    "from keras.layers import Conv2D, MaxPooling2D, Flatten, Dense\n",
    "from keras.preprocessing import image\n",
    "from keras.preprocessing.image import ImageDataGenerator"
   ]
  },
  {
   "cell_type": "code",
   "execution_count": 3,
   "metadata": {},
   "outputs": [
    {
     "name": "stdout",
     "output_type": "stream",
     "text": [
      "WARNING:tensorflow:From c:\\Users\\Jacob\\AppData\\Local\\Programs\\Python\\Python311\\Lib\\site-packages\\keras\\src\\backend.py:873: The name tf.get_default_graph is deprecated. Please use tf.compat.v1.get_default_graph instead.\n",
      "\n",
      "WARNING:tensorflow:From c:\\Users\\Jacob\\AppData\\Local\\Programs\\Python\\Python311\\Lib\\site-packages\\keras\\src\\layers\\pooling\\max_pooling2d.py:161: The name tf.nn.max_pool is deprecated. Please use tf.nn.max_pool2d instead.\n",
      "\n",
      "WARNING:tensorflow:From c:\\Users\\Jacob\\AppData\\Local\\Programs\\Python\\Python311\\Lib\\site-packages\\keras\\src\\optimizers\\__init__.py:309: The name tf.train.Optimizer is deprecated. Please use tf.compat.v1.train.Optimizer instead.\n",
      "\n"
     ]
    }
   ],
   "source": [
    "# Initalising the CNN\n",
    "classifier = Sequential()\n",
    "\n",
    "# Step 1 - Covolution\n",
    "classifier.add(Conv2D(32, (3, 3), input_shape=(64, 64, 3), activation=\"relu\"))\n",
    "\n",
    "# Step 2 - Pooling\n",
    "classifier.add(MaxPooling2D(pool_size=(2, 2)))\n",
    "\n",
    "# Adding the second convolution layer\n",
    "classifier.add(Conv2D(32, (3, 3), activation=\"relu\"))\n",
    "classifier.add(MaxPooling2D(pool_size=(2, 2)))\n",
    "\n",
    "# Step 3 - Flattening\n",
    "classifier.add(Flatten())\n",
    "\n",
    "# Step 4 - Full Connection\n",
    "classifier.add(Dense(units=128, activation=\"relu\"))\n",
    "\n",
    "# add the output layer\n",
    "classifier.add(Dense(units=1, activation=\"sigmoid\"))\n",
    "\n",
    "# compile the model\n",
    "classifier.compile(optimizer=\"adam\", loss=\"binary_crossentropy\", metrics=[\"accuracy\"])"
   ]
  },
  {
   "cell_type": "code",
   "execution_count": 4,
   "metadata": {},
   "outputs": [
    {
     "name": "stdout",
     "output_type": "stream",
     "text": [
      "Found 8000 images belonging to 2 classes.\n",
      "Found 2000 images belonging to 2 classes.\n"
     ]
    }
   ],
   "source": [
    "# Fitting the CNN Model to Images\n",
    "# Image Augmentation\n",
    "train_datagen = ImageDataGenerator(\n",
    "    rescale=1.0 / 255, shear_range=0.2, zoom_range=0.2, horizontal_flip=True\n",
    ")\n",
    "\n",
    "test_datagen = ImageDataGenerator(rescale=1.0 / 255)\n",
    "\n",
    "training_set = train_datagen.flow_from_directory(\n",
    "    \"../dataset/training_set/\", target_size=(64, 64), batch_size=32, class_mode=\"binary\"\n",
    ")\n",
    "\n",
    "test_set = test_datagen.flow_from_directory(\n",
    "    \"../dataset/test_set/\", target_size=(64, 64), batch_size=32, class_mode=\"binary\"\n",
    ")"
   ]
  },
  {
   "cell_type": "code",
   "execution_count": 5,
   "metadata": {},
   "outputs": [
    {
     "name": "stdout",
     "output_type": "stream",
     "text": [
      "Epoch 1/10\n",
      "WARNING:tensorflow:From c:\\Users\\Jacob\\AppData\\Local\\Programs\\Python\\Python311\\Lib\\site-packages\\keras\\src\\utils\\tf_utils.py:492: The name tf.ragged.RaggedTensorValue is deprecated. Please use tf.compat.v1.ragged.RaggedTensorValue instead.\n",
      "\n",
      "WARNING:tensorflow:From c:\\Users\\Jacob\\AppData\\Local\\Programs\\Python\\Python311\\Lib\\site-packages\\keras\\src\\engine\\base_layer_utils.py:384: The name tf.executing_eagerly_outside_functions is deprecated. Please use tf.compat.v1.executing_eagerly_outside_functions instead.\n",
      "\n",
      "250/250 [==============================] - 44s 172ms/step - loss: 0.6634 - accuracy: 0.5920 - val_loss: 0.6260 - val_accuracy: 0.6495\n",
      "Epoch 2/10\n",
      "250/250 [==============================] - 19s 76ms/step - loss: 0.6001 - accuracy: 0.6805 - val_loss: 0.5706 - val_accuracy: 0.7165\n",
      "Epoch 3/10\n",
      "250/250 [==============================] - 19s 75ms/step - loss: 0.5677 - accuracy: 0.7044 - val_loss: 0.5260 - val_accuracy: 0.7425\n",
      "Epoch 4/10\n",
      "250/250 [==============================] - 19s 75ms/step - loss: 0.5308 - accuracy: 0.7301 - val_loss: 0.5089 - val_accuracy: 0.7520\n",
      "Epoch 5/10\n",
      "250/250 [==============================] - 19s 75ms/step - loss: 0.5101 - accuracy: 0.7444 - val_loss: 0.4977 - val_accuracy: 0.7590\n",
      "Epoch 6/10\n",
      "250/250 [==============================] - 19s 75ms/step - loss: 0.4788 - accuracy: 0.7646 - val_loss: 0.5133 - val_accuracy: 0.7530\n",
      "Epoch 7/10\n",
      "250/250 [==============================] - 19s 75ms/step - loss: 0.4695 - accuracy: 0.7746 - val_loss: 0.4550 - val_accuracy: 0.7860\n",
      "Epoch 8/10\n",
      "250/250 [==============================] - 19s 74ms/step - loss: 0.4500 - accuracy: 0.7855 - val_loss: 0.4573 - val_accuracy: 0.7785\n",
      "Epoch 9/10\n",
      "250/250 [==============================] - 19s 75ms/step - loss: 0.4384 - accuracy: 0.7956 - val_loss: 0.4670 - val_accuracy: 0.7735\n",
      "Epoch 10/10\n",
      "250/250 [==============================] - 19s 75ms/step - loss: 0.4291 - accuracy: 0.7990 - val_loss: 0.4407 - val_accuracy: 0.7910\n"
     ]
    },
    {
     "data": {
      "text/plain": [
       "<keras.src.callbacks.History at 0x1c0f2332950>"
      ]
     },
     "execution_count": 5,
     "metadata": {},
     "output_type": "execute_result"
    }
   ],
   "source": [
    "classifier.fit(\n",
    "    training_set,\n",
    "    epochs=10,\n",
    "    validation_data=test_set,\n",
    ")"
   ]
  },
  {
   "cell_type": "code",
   "execution_count": 7,
   "metadata": {},
   "outputs": [
    {
     "name": "stdout",
     "output_type": "stream",
     "text": [
      "1/1 [==============================] - 0s 24ms/step\n",
      "[[0.]]\n",
      "cat\n"
     ]
    }
   ],
   "source": [
    "# Making new predictions\n",
    "test_image = image.load_img(\n",
    "    \"../dataset/single_prediction/cat_or_dog_2.jpg\", target_size=(64, 64)\n",
    ")\n",
    "test_image = image.img_to_array(test_image)\n",
    "test_image = np.expand_dims(test_image, axis=0)\n",
    "result = classifier.predict(test_image)\n",
    "print(result)\n",
    "if result[0][0] == 1:\n",
    "    prediction = \"dog\"\n",
    "else:\n",
    "    prediction = \"cat\"\n",
    "\n",
    "print(prediction)"
   ]
  },
  {
   "cell_type": "code",
   "execution_count": 8,
   "metadata": {},
   "outputs": [
    {
     "name": "stderr",
     "output_type": "stream",
     "text": [
      "c:\\Users\\Jacob\\AppData\\Local\\Programs\\Python\\Python311\\Lib\\site-packages\\keras\\src\\engine\\training.py:3103: UserWarning: You are saving your model as an HDF5 file via `model.save()`. This file format is considered legacy. We recommend using instead the native Keras format, e.g. `model.save('my_model.keras')`.\n",
      "  saving_api.save_model(\n"
     ]
    }
   ],
   "source": [
    "# from keras.models import load_model, save_model\n",
    "classifier.save(\"model.h5\")"
   ]
  }
 ],
 "metadata": {
  "kernelspec": {
   "display_name": "Python 3",
   "language": "python",
   "name": "python3"
  },
  "language_info": {
   "codemirror_mode": {
    "name": "ipython",
    "version": 3
   },
   "file_extension": ".py",
   "mimetype": "text/x-python",
   "name": "python",
   "nbconvert_exporter": "python",
   "pygments_lexer": "ipython3",
   "version": "3.11.7"
  }
 },
 "nbformat": 4,
 "nbformat_minor": 2
}
